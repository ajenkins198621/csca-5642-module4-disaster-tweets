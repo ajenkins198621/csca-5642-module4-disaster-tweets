{
 "cells": [
  {
   "cell_type": "markdown",
   "metadata": {},
   "source": [
    "# Week 4 Assignment\n",
    "## Kaggle: Natural Language Processing with Disaster Tweets\n",
    "\n",
    "By: Austin Jenkins\n",
    "\n",
    "Class: CSCA 5642 - Introduction to Deep Learning\n",
    "\n",
    "Github Repository: https://github.com/ajenkins198621/csca-5642-module4-disaster-tweets"
   ]
  }
 ],
 "metadata": {
  "language_info": {
   "name": "python"
  }
 },
 "nbformat": 4,
 "nbformat_minor": 2
}
